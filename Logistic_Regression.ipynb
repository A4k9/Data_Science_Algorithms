{
  "nbformat": 4,
  "nbformat_minor": 0,
  "metadata": {
    "colab": {
      "name": "Logistic_Regression.ipynb",
      "provenance": [],
      "authorship_tag": "ABX9TyM6WvIFO0lcqV+fTjIsHkkj"
    },
    "kernelspec": {
      "name": "python3",
      "display_name": "Python 3"
    }
  },
  "cells": [
    {
      "cell_type": "code",
      "metadata": {
        "id": "1G_pWKGbJ3hH",
        "colab_type": "code",
        "colab": {}
      },
      "source": [
        "import numpy as np\n",
        "import warnings\n",
        "warnings.filterwarnings('ignore')\n",
        "\n",
        "class LogisticRegression:\n",
        "\n",
        "    def __init__(self, alpha = 0.01, iterations = 500):\n",
        "        self.alpha = alpha\n",
        "        self.iterations = iterations\n",
        "        self.weights = None\n",
        "        self.bias = None\n",
        "\n",
        "    def sigmoid(self, x):\n",
        "        return 1 / (1 + np.exp(-np.float64(x)))\n",
        "\n",
        "    def fit(self, X, y):\n",
        "        \n",
        "        number_of_examples, number_of_features = X.shape\n",
        "\n",
        "        self.weights = np.random.randn(number_of_features)\n",
        "        self.bias = np.random.randn()\n",
        "\n",
        "        for _ in range(self.iterations):\n",
        "            hypothesis = self.sigmoid(np.dot(X, self.weights) + self.bias)\n",
        "\n",
        "            dw = (1/number_of_examples) * 2 * np.dot(X.T, (hypothesis - y))\n",
        "            db = (1/number_of_examples) * 2 * np.sum(hypothesis - y)\n",
        "\n",
        "            self.weights -= self.alpha * dw\n",
        "            self.bias -= self.alpha * db\n",
        "\n",
        "    def predict(self, X):\n",
        "        hypothesis = self.sigmoid(np.dot(X, self.weights) + self.bias)\n",
        "        output_classes = [1 if i >= 0.5 else 0 for i in hypothesis]\n",
        "        return output_classes"
      ],
      "execution_count": 14,
      "outputs": []
    },
    {
      "cell_type": "code",
      "metadata": {
        "id": "RTIzi5oTRSAS",
        "colab_type": "code",
        "colab": {
          "base_uri": "https://localhost:8080/",
          "height": 35
        },
        "outputId": "ab4b1ae4-8eaa-4ea3-84b6-9fb261c77c85"
      },
      "source": [
        "from sklearn.datasets import load_breast_cancer\n",
        "from sklearn.model_selection import train_test_split\n",
        "import matplotlib.pyplot as plt\n",
        "\n",
        "BreastCancerData = load_breast_cancer()\n",
        "X, y = BreastCancerData.data, BreastCancerData.target\n",
        "\n",
        "X_train, X_test, y_train, y_test = train_test_split(X, y, test_size = 0.2)\n",
        "\n",
        "model = LogisticRegression()\n",
        "model.fit(X_train, y_train)\n",
        "result = model.predict(X_test)\n",
        "\n",
        "print(\"Accuracy is {}\".format(np.sum(y_test == result)/len(y_test)))"
      ],
      "execution_count": 15,
      "outputs": [
        {
          "output_type": "stream",
          "text": [
            "Accuracy is 0.9122807017543859\n"
          ],
          "name": "stdout"
        }
      ]
    }
  ]
}